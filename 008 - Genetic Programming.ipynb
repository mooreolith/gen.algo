{
 "cells": [
  {
   "cell_type": "markdown",
   "id": "015969dd-73b3-43b9-921f-ab0cb38873c5",
   "metadata": {},
   "source": [
    "# Genetic Programming\n",
    "## using Python\n",
    "\n",
    "The following Python code is nothing special in terms of instructions used, but its implications are interesting, for reasons you will understand if you read this piece. "
   ]
  },
  {
   "cell_type": "markdown",
   "id": "ec8d5e40-6986-4f87-ae4d-a0d37c391714",
   "metadata": {
    "tags": []
   },
   "source": [
    "Near the beginning of our file, we have import statements. These are system libraries, meaning it's what comes with Python3."
   ]
  },
  {
   "cell_type": "code",
   "execution_count": 1,
   "id": "45c2fc6a-dfd0-4c6c-93bb-f96861d8e08f",
   "metadata": {},
   "outputs": [],
   "source": [
    "import random\n",
    "from math import floor\n",
    "import sys\n",
    "import string"
   ]
  },
  {
   "cell_type": "markdown",
   "id": "e59225b1-1d7e-44b6-972f-324590fef34e",
   "metadata": {},
   "source": [
    "Here, we define a Gene class. \n",
    "\n",
    "The Gene exists as a collection, and can mate with another gene, in this case meaning a randomly chosen split between two Gene's contents before random recombination with other genes in the pool. \n",
    "A Gene can also undergo mutation, by invoking its mutate function which requires a rate of mutation, think of this as a reading from the bequerel meter. Radiation sends particles around it, hitting atoms and molecules, and sometimes knocking some of them loose, the more radiation (here called \"percent mutation\"), the less recognizable the gene from before the mutation. "
   ]
  },
  {
   "cell_type": "code",
   "execution_count": 2,
   "id": "279ab4fd-51a7-45b9-a5a5-427573446387",
   "metadata": {},
   "outputs": [],
   "source": [
    "class Gene():\n",
    "    def __init__(self, code):\n",
    "        self.code = code\n",
    "        self.cost = 9999\n",
    "\n",
    "    def mate(self, gene):\n",
    "        middle = int(floor(len(self.code)/2))\n",
    "        return [Gene(self.code[:middle] + gene.code[middle:]),\n",
    "                Gene(gene.code[:middle] + self.code[middle:])]\n",
    "\n",
    "    def mutate(self, rate):\n",
    "        if random.random() < rate:\n",
    "            return\n",
    "\n",
    "        code = ''\n",
    "        index = round(random.random() * len(self.code))\n",
    "        for i in range(len(self.code)):\n",
    "            upOrDown = -1 if round(random.random()) else 1\n",
    "            if i == index and ord(self.code[i]) + upOrDown < 256 and ord(self.code[i]) > 0:\n",
    "                code += chr(ord(self.code[i]) + upOrDown)\n",
    "            else:\n",
    "                code += self.code[i]\n",
    "\n",
    "        self.code = code\n",
    "\n",
    "    def random(self, length):\n",
    "        code = ''\n",
    "        for i in range(length):\n",
    "            code += chr(int(random.random()*255))\n",
    "        self.code = code\n",
    "\n",
    "    def calc_cost(self, target):\n",
    "        total = 0\n",
    "        \n",
    "        for i in range(len(self.code)):\n",
    "            total += (ord(self.code[i]) - ord(target[i])) * (ord(self.code[i]) - ord(target[i]))\n",
    "\n",
    "        self.cost = total\n",
    "        "
   ]
  },
  {
   "cell_type": "markdown",
   "id": "2dd8ddc4-3dcc-4f5c-8a02-dfd9b337739c",
   "metadata": {},
   "source": [
    "The population acts as a collection for the Genes. It breeds this example of informational genes by sorting by a \"cost\" or \"ranking\" function each generation (round), and comparing the highest ranking genetic expression (one of the strings containing) compared to a single desired output string. Basically, this code implements a toy model of evolution. "
   ]
  },
  {
   "cell_type": "code",
   "execution_count": 3,
   "id": "abfa3ae8-e063-4ada-a6b7-131b91cb0728",
   "metadata": {},
   "outputs": [],
   "source": [
    "class Population():\n",
    "    def __init__(self, target=\"Greetings, Worlds!\", size=100, log_costs=True):\n",
    "        self.target = target\n",
    "        self.members = []\n",
    "        for i in range(size):\n",
    "            gene = Gene('')\n",
    "            gene.random(len(self.target))\n",
    "            self.members.append(gene)\n",
    "        self.generationNumber = 0\n",
    "        \n",
    "        self.log_costs = log_costs\n",
    "        if self.log_costs:\n",
    "            self.cost_log = [] # logs the cost of the highest ranking member\n",
    "        \n",
    "    def calc_costs(self):\n",
    "        for member in self.members:\n",
    "            member.calc_cost(self.target)\n",
    "\n",
    "    def mutate(self, chance):\n",
    "        for member in self.members:\n",
    "            member.mutate(chance)\n",
    "\n",
    "    # Should be called after Population.calcCosts()\n",
    "    def sort(self):\n",
    "        self.members = sorted(self.members, key=lambda member: member.cost)\n",
    "\n",
    "    def display(self):\n",
    "        self.calc_costs()\n",
    "        self.sort()\n",
    "        # \"Generation\", self.generationNumber, self.members[0].cost \n",
    "        \n",
    "        code = self.members[0].code\n",
    "        clean = ''\n",
    "        for c in code:\n",
    "            if c.isprintable():\n",
    "                clean += c\n",
    "        print(clean, end='\\r')\n",
    "        sys.stdout.flush()\n",
    "\n",
    "    def genotype(self, mutation_rate=0.5, display=False):\n",
    "        while not self._generation(mutation_rate, display):\n",
    "            pass\n",
    "            \n",
    "        if self.log_costs:\n",
    "            return self.cost_log\n",
    "        else:\n",
    "            return self.generationNumber\n",
    "        \n",
    "    def _generation(self, mutation_rate=0.5, display=False):\n",
    "        self.calc_costs()\n",
    "        self.sort()\n",
    "        if self.log_costs:\n",
    "            self.cost_log.append(self.members[0].cost)\n",
    "        if display:\n",
    "            self.display()\n",
    "\n",
    "        children = self.members[0].mate(self.members[1])\n",
    "        self.members[-2] = children[0]\n",
    "        self.members[-1] = children[1]\n",
    "\n",
    "        for member in self.members:\n",
    "            member.mutate(mutation_rate)\n",
    "            member.calc_cost(self.target)\n",
    "            if member.code == self.target:\n",
    "                self.sort()\n",
    "                if display:\n",
    "                    self.display()\n",
    "                return True\n",
    "\n",
    "        self.generationNumber += 1\n",
    "        return False"
   ]
  },
  {
   "cell_type": "code",
   "execution_count": 4,
   "id": "399f1948-2ab7-4b7a-8f63-2417f9d76946",
   "metadata": {},
   "outputs": [],
   "source": [
    "#targetString = 'As time progresses...'\n",
    "#\n",
    "#population = Population(target=targetString, log_costs=False)\n",
    "#print(population.members[0].code)\n",
    "#population.genotype(display=True)"
   ]
  },
  {
   "cell_type": "code",
   "execution_count": 5,
   "id": "b4126c54-c2d2-43fb-8ba4-0a0836aecb99",
   "metadata": {},
   "outputs": [],
   "source": [
    "def evolve(targetStrings):\n",
    "    if type(targetStrings) is str:\n",
    "        strs = targetStrings.split(' ')\n",
    "        targetStrings = strs\n",
    "    \n",
    "    for s in targetStrings:\n",
    "        population = Population(target=s, log_costs=False)\n",
    "        population.genotype(display=True)\n",
    "        c = population.members[0].code\n",
    "        print(c)"
   ]
  },
  {
   "cell_type": "code",
   "execution_count": 6,
   "id": "9841dd9f-5daa-4411-a548-989459101a5f",
   "metadata": {},
   "outputs": [
    {
     "name": "stdout",
     "output_type": "stream",
     "text": [
      "Welcome\n",
      "to\n",
      "Instantania\n"
     ]
    }
   ],
   "source": [
    "evolve(\"Welcome to Instantania\".split())"
   ]
  },
  {
   "cell_type": "markdown",
   "id": "2ac6c87f-69a1-4261-bd38-fc26073adc5e",
   "metadata": {},
   "source": [
    "## evolve(\"What's the juciest juice on Earth?\")"
   ]
  },
  {
   "cell_type": "code",
   "execution_count": null,
   "id": "7e936069-adf8-44ff-be2b-bb7e07f5c328",
   "metadata": {},
   "outputs": [
    {
     "name": "stdout",
     "output_type": "stream",
     "text": [
      "What's\n",
      "the\n",
      "juciest\n",
      "juice\n",
      "on\n",
      "Earth?\n"
     ]
    }
   ],
   "source": [
    "evolve(\"What's the juciest juice on Earth?\")"
   ]
  },
  {
   "cell_type": "code",
   "execution_count": 8,
   "id": "dad848b3-0941-4e7e-851e-d83896277079",
   "metadata": {},
   "outputs": [
    {
     "name": "stdout",
     "output_type": "stream",
     "text": [
      "Welcome,\n",
      "to\n",
      "the\n",
      "worlds\n",
      "of\n",
      "tomorrow\n"
     ]
    }
   ],
   "source": [
    "evolve(\"Welcome, to the worlds of tomorrow\")"
   ]
  },
  {
   "cell_type": "code",
   "execution_count": null,
   "id": "82bdd376-16fa-4221-b5e6-a0c525336100",
   "metadata": {},
   "outputs": [],
   "source": []
  }
 ],
 "metadata": {
  "kernelspec": {
   "display_name": "Python 3 (ipykernel)",
   "language": "python",
   "name": "python3"
  },
  "language_info": {
   "codemirror_mode": {
    "name": "ipython",
    "version": 3
   },
   "file_extension": ".py",
   "mimetype": "text/x-python",
   "name": "python",
   "nbconvert_exporter": "python",
   "pygments_lexer": "ipython3",
   "version": "3.8.10"
  }
 },
 "nbformat": 4,
 "nbformat_minor": 5
}
